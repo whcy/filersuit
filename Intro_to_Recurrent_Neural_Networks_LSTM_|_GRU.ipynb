{
  "nbformat": 4,
  "nbformat_minor": 0,
  "metadata": {
    "colab": {
      "name": "Intro to Recurrent Neural Networks LSTM | GRU.ipynb",
      "provenance": [],
      "authorship_tag": "ABX9TyNMAq0K3z6DhigQPHG+4CT1",
      "include_colab_link": true
    },
    "kernelspec": {
      "name": "python3",
      "display_name": "Python 3"
    }
  },
  "cells": [
    {
      "cell_type": "markdown",
      "metadata": {
        "id": "view-in-github",
        "colab_type": "text"
      },
      "source": [
        "<a href=\"https://colab.research.google.com/github/whcy/filersuit/blob/dev/Intro_to_Recurrent_Neural_Networks_LSTM_%7C_GRU.ipynb\" target=\"_parent\"><img src=\"https://colab.research.google.com/assets/colab-badge.svg\" alt=\"Open In Colab\"/></a>"
      ]
    },
    {
      "cell_type": "markdown",
      "metadata": {
        "id": "ORSDzUsMZKaE",
        "colab_type": "text"
      },
      "source": [
        "\n",
        "Aim and motivation\n",
        "\n",
        "The primary reason I have chosen to create this kernel is to practice and use RNNs for various tasks and applications. First of which is time series data. RNNs have truly changed the way sequential data is forecasted. My goal here is to create the ultimate reference for RNNs here on kaggle.\n",
        "Things to remember\n",
        "\n",
        "    Please upvote(like button) and share this kernel if you like it. This would increase its visibility and more people will be able to learn about the awesomeness of RNNs.\n",
        "    I will use keras for this kernel. If you are not familiar with keras or neural networks, refer to this kernel/tutorial of mine: https://www.kaggle.com/thebrownviking20/intro-to-keras-with-breast-cancer-data-ann\n",
        "    Your doubts and curiousity about time series can be taken care of here: https://www.kaggle.com/thebrownviking20/everything-you-can-do-with-a-time-series\n",
        "    Don't let the explanations intimidate you. It's simpler than you think.\n",
        "    Eventually, I will add more applications of LSTMs. So stay tuned for more!\n",
        "    The code is inspired from Kirill Eremenko's Deep Learning Course: https://www.udemy.com/deeplearning/\n",
        "\n",
        "Recurrent Neural Networks\n",
        "\n",
        "In a recurrent neural network we store the output activations from one or more of the layers of the network. Often these are hidden later activations. Then, the next time we feed an input example to the network, we include the previously-stored outputs as additional inputs. You can think of the additional inputs as being concatenated to the end of the “normal” inputs to the previous layer. For example, if a hidden layer had 10 regular input nodes and 128 hidden nodes in the layer, then it would actually have 138 total inputs (assuming you are feeding the layer’s outputs into itself à la Elman) rather than into another layer). Of course, the very first time you try to compute the output of the network you’ll need to fill in those extra 128 inputs with 0s or something.\n",
        "\n",
        "Source: Quora\n",
        "\n",
        "Source: Medium\n",
        "\n",
        "Let me give you the best explanation of Recurrent Neural Networks that I found on internet: https://www.youtube.com/watch?v=UNmqTiOnRfg&t=3s\n",
        "\n",
        "Now, even though RNNs are quite powerful, they suffer from Vanishing gradient problem which hinders them from using long term information, like they are good for storing memory 3-4 instances of past iterations but larger number of instances don't provide good results so we don't just use regular RNNs. Instead, we use a better variation of RNNs: Long Short Term Networks(LSTM).\n",
        "What is Vanishing Gradient problem?\n",
        "\n",
        "Vanishing gradient problem is a difficulty found in training artificial neural networks with gradient-based learning methods and backpropagation. In such methods, each of the neural network's weights receives an update proportional to the partial derivative of the error function with respect to the current weight in each iteration of training. The problem is that in some cases, the gradient will be vanishingly small, effectively preventing the weight from changing its value. In the worst case, this may completely stop the neural network from further training. As one example of the problem cause, traditional activation functions such as the hyperbolic tangent function have gradients in the range (0, 1), and backpropagation computes gradients by the chain rule. This has the effect of multiplying n of these small numbers to compute gradients of the \"front\" layers in an n-layer network, meaning that the gradient (error signal) decreases exponentially with n while the front layers train very slowly.\n",
        "\n",
        "Source: Wikipedia\n",
        "\n",
        "Source: Medium\n",
        "Long Short Term Memory(LSTM)\n",
        "\n",
        "Long short-term memory (LSTM) units (or blocks) are a building unit for layers of a recurrent neural network (RNN). A RNN composed of LSTM units is often called an LSTM network. A common LSTM unit is composed of a cell, an input gate, an output gate and a forget gate. The cell is responsible for \"remembering\" values over arbitrary time intervals; hence the word \"memory\" in LSTM. Each of the three gates can be thought of as a \"conventional\" artificial neuron, as in a multi-layer (or feedforward) neural network: that is, they compute an activation (using an activation function) of a weighted sum. Intuitively, they can be thought as regulators of the flow of values that goes through the connections of the LSTM; hence the denotation \"gate\". There are connections between these gates and the cell.\n",
        "\n",
        "The expression long short-term refers to the fact that LSTM is a model for the short-term memory which can last for a long period of time. An LSTM is well-suited to classify, process and predict time series given time lags of unknown size and duration between important events. LSTMs were developed to deal with the exploding and vanishing gradient problem when training traditional RNNs.\n",
        "\n",
        "Source: Wikipedia\n",
        "\n",
        "Source: Medium\n",
        "\n",
        "The best LSTM explanation on internet: https://medium.com/deep-math-machine-learning-ai/chapter-10-1-deepnlp-lstm-long-short-term-memory-networks-with-math-21477f8e4235\n",
        "\n",
        "Refer above link for deeper insights.\n",
        "Components of LSTMs\n",
        "\n",
        "So the LSTM cell contains the following components\n",
        "\n",
        "    Forget Gate “f” ( a neural network with sigmoid)\n",
        "    Candidate layer “C\"(a NN with Tanh)\n",
        "    Input Gate “I” ( a NN with sigmoid )\n",
        "    Output Gate “O”( a NN with sigmoid)\n",
        "    Hidden state “H” ( a vector )\n",
        "\n",
        "    Memory state “C” ( a vector)\n",
        "\n",
        "    Inputs to the LSTM cell at any step are Xt (current input) , Ht-1 (previous hidden state ) and Ct-1 (previous memory state).\n",
        "    Outputs from the LSTM cell are Ht (current hidden state ) and Ct (current memory state)\n",
        "\n",
        "Working of gates in LSTMs\n",
        "\n",
        "First, LSTM cell takes the previous memory state Ct-1 and does element wise multiplication with forget gate (f) to decide if present memory state Ct. If forget gate value is 0 then previous memory state is completely forgotten else f forget gate value is 1 then previous memory state is completely passed to the cell ( Remember f gate gives values between 0 and 1 ).\n",
        "\n",
        "Ct = Ct-1 * ft\n",
        "\n",
        "Calculating the new memory state:\n",
        "\n",
        "Ct = Ct + (It * C`t)\n",
        "\n",
        "Now, we calculate the output:\n",
        "\n",
        "Ht = tanh(Ct)\n",
        "And now we get to the code...\n",
        "\n",
        "I will use LSTMs for predicting the price of stocks of IBM for the year 2017\n"
      ]
    },
    {
      "cell_type": "code",
      "metadata": {
        "id": "vGxMvSejZfob",
        "colab_type": "code",
        "colab": {}
      },
      "source": [
        ""
      ],
      "execution_count": 0,
      "outputs": []
    }
  ]
}